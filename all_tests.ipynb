{
 "cells": [
  {
   "cell_type": "code",
   "execution_count": 7,
   "metadata": {},
   "outputs": [],
   "source": [
    "import numpy as np\n",
    "import pandas as pd\n",
    "import seaborn as sns\n",
    "import matplotlib.pyplot as plt\n",
    "\n",
    "from sklearn.preprocessing import label_binarize\n",
    "from utility import Dataset, oh_encoder, t_encoder, l_encoder, scaler, get_best_features, cfs, rfe, sfs, pca, eval_metric\n",
    "from sklearn.preprocessing import MinMaxScaler\n",
    "from sklearn.preprocessing import StandardScaler\n",
    "from sklearn.feature_selection import SelectKBest, chi2, f_classif, mutual_info_classif\n",
    "\n",
    "from sklearn.model_selection import GridSearchCV\n",
    "from sklearn.svm import LinearSVC\n",
    "from sklearn.naive_bayes import GaussianNB\n",
    "from sklearn.neighbors import KNeighborsClassifier\n",
    "from catboost import CatBoostClassifier, Pool, metrics, cv\n",
    "from sklearn.linear_model import LogisticRegression\n",
    "from xgboost import XGBClassifier\n",
    "from sklearn.ensemble import RandomForestClassifier\n",
    "from sklearn.preprocessing import KBinsDiscretizer\n",
    "from sklearn.svm import SVC\n",
    "from sklearn.tree import DecisionTreeClassifier\n",
    "from sklearn.metrics import classification_report\n",
    "from sklearn.metrics import confusion_matrix\n",
    "\n",
    "from sklearn.metrics import accuracy_score, precision_score, recall_score, f1_score, classification_report, confusion_matrix\n",
    "\n",
    "from sklearn.metrics import roc_curve, auc\n",
    "\n",
    "columns = ['duration', 'protocol_type', 'service', 'flag', 'src_bytes', 'dst_bytes', 'land', 'wrong_fragment',\n",
    "           'urgent', 'hot', 'num_failed_logins', 'logged_in', 'num_compromised', 'root_shell', 'su_attempted',\n",
    "           'num_root', 'num_file_creations', 'num_shells', 'num_access_files', 'num_outbound_cmds', 'is_host_login',\n",
    "           'is_guest_login', 'count', 'srv_count', 'serror_rate', 'srv_serror_rate', 'rerror_rate', 'srv_rerror_rate',\n",
    "           'same_srv_rate', 'diff_srv_rate', 'srv_diff_host_rate', 'dst_host_count', 'dst_host_srv_count',\n",
    "           'dst_host_same_srv_rate', 'dst_host_diff_srv_rate', 'dst_host_same_src_port_rate',\n",
    "           'dst_host_srv_diff_host_rate', 'dst_host_serror_rate', 'dst_host_srv_serror_rate', 'dst_host_rerror_rate',\n",
    "           'dst_host_srv_rerror_rate', 'label', 'score']\n",
    "\n",
    "nominal_features = ['protocol_type', 'service', 'flag']\n",
    "binary_features = ['land', 'logged_in', 'root_shell', 'su_attempted', 'is_host_login', 'is_guest_login']\n",
    "numeric_features = [feature for feature in columns if feature not in nominal_features + binary_features + ['label', 'score', 'num_outbound_cmds']]\n",
    "\n",
    "starting_train_df = pd.read_csv(f'dataset/nsl-kdd/KDDTrain+.txt', header=None)\n",
    "starting_test_df = pd.read_csv(f'dataset/nsl-kdd/KDDTest+.txt', header=None)\n",
    "\n",
    "def pipeline(train_df, test_df):\n",
    "    models = {\n",
    "        'Logistic Regression': LogisticRegression(),\n",
    "        'Random Forest': RandomForestClassifier(),\n",
    "        'Decision Tree': DecisionTreeClassifier(),\n",
    "        'LinearSVC': LinearSVC(),\n",
    "        'GaussianNB': GaussianNB()\n",
    "    }\n",
    "\n",
    "    y_train = train_df['label']\n",
    "    y_test = test_df['label']\n",
    "    X_train = train_df.drop(columns=['label'])\n",
    "    X_test = test_df.drop(columns=['label'])\n",
    "\n",
    "    n_features = X_train.shape[1]\n",
    "    for k in range(1, n_features + 1):\n",
    "        for method in [chi2, f_classif, mutual_info_classif]:\n",
    "            print(f\"Selecting {k} best features using {method.__name__}...\")\n",
    "            X_train, X_test = get_best_features(train_df, test_df, method, k)\n",
    "            y_train = train_df['label']\n",
    "            y_test = test_df['label']\n",
    "\n",
    "            for name, model in models.items():\n",
    "                print(f\"Training {name}...\")\n",
    "                model.fit(X_train, y_train)\n",
    "                y_pred = model.predict(X_test)\n",
    "                print(classification_report(y_test, y_pred, target_names=model.classes_))\n",
    "\n",
    "\n",
    "        X_train, X_test = rfe(train_df, test_df, k)\n",
    "        print(f\"Selecting {k} best features using RFE...\")\n",
    "        y_train = train_df['label']\n",
    "        y_test = test_df['label']\n",
    "\n",
    "        for name, model in models.items():\n",
    "            print(f\"Training {name}...\")\n",
    "            model.fit(X_train, y_train)\n",
    "            y_pred = model.predict(X_test)\n",
    "            print(classification_report(y_test, y_pred, target_names=model.classes_))\n",
    "\n",
    "\n",
    "        X_train, X_test = pca(train_df, test_df, k)\n",
    "        print(f\"Selecting {k} best features using PCA...\")\n",
    "        y_train = train_df['label']\n",
    "        y_test = test_df['label']\n",
    "\n",
    "        for name, model in models.items():\n",
    "            print(f\"Training {name}...\")\n",
    "            model.fit(X_train, y_train)\n",
    "            y_pred = model.predict(X_test)\n",
    "            print(classification_report(y_test, y_pred, target_names=model.classes_))\n",
    "\n",
    "    X_train, X_test = cfs(train_df, test_df)\n",
    "    print(f\"Selecting best features using CFS...\")\n",
    "    y_train = train_df['label']\n",
    "    y_test = test_df['label']\n",
    "\n",
    "    for name, model in models.items():\n",
    "        print(f\"Training {name}...\")\n",
    "        model.fit(X_train, y_train)\n",
    "        y_pred = model.predict(X_test)\n",
    "        print(classification_report(y_test, y_pred, target_names=model.classes_))"
   ]
  },
  {
   "cell_type": "markdown",
   "metadata": {},
   "source": [
    "1. Con 2 label"
   ]
  },
  {
   "cell_type": "code",
   "execution_count": 8,
   "metadata": {},
   "outputs": [],
   "source": [
    "train_df = Dataset(starting_train_df, columns).get_label2()\n",
    "test_df = Dataset(starting_test_df, columns).get_label2()"
   ]
  },
  {
   "cell_type": "markdown",
   "metadata": {},
   "source": [
    "1.1 Scalato"
   ]
  },
  {
   "cell_type": "code",
   "execution_count": 9,
   "metadata": {},
   "outputs": [],
   "source": [
    "scaled_train_df, scaled_test_df = scaler(train_df, test_df, numeric_features, MinMaxScaler())"
   ]
  },
  {
   "cell_type": "markdown",
   "metadata": {},
   "source": [
    "1.1.1 Solo one hot encoder"
   ]
  },
  {
   "cell_type": "code",
   "execution_count": 10,
   "metadata": {},
   "outputs": [],
   "source": [
    "train_df, test_df = oh_encoder(scaled_train_df, scaled_test_df, ['protocol_type', 'flag', 'service'])"
   ]
  },
  {
   "cell_type": "markdown",
   "metadata": {},
   "source": [
    "1.1.1.1 f_classif \\\n",
    "1.1.1.2 chi2 \\\n",
    "1.1.1.3 mutual_info_classif \\\n",
    "1.1.1.4 cfs \\\n",
    "1.1.1.5 rfe \\\n",
    "1.1.1.6 pca "
   ]
  },
  {
   "cell_type": "code",
   "execution_count": null,
   "metadata": {},
   "outputs": [],
   "source": [
    "pipeline(train_df, test_df)"
   ]
  },
  {
   "cell_type": "markdown",
   "metadata": {},
   "source": [
    "1.1.2 Solo label encoder"
   ]
  },
  {
   "cell_type": "code",
   "execution_count": null,
   "metadata": {},
   "outputs": [],
   "source": [
    "train_df, test_df = l_encoder(scaled_train_df, scaled_test_df, ['service', 'protocol_type', 'flag'])"
   ]
  },
  {
   "cell_type": "markdown",
   "metadata": {},
   "source": [
    "1.1.2.1 f_classif \\\n",
    "1.1.2.2 chi2 \\\n",
    "1.1.2.3 mutual_info_classif \\\n",
    "1.1.2.4 cfs \\\n",
    "1.1.2.5 rfe \\\n",
    "1.1.2.6 pca "
   ]
  },
  {
   "cell_type": "code",
   "execution_count": null,
   "metadata": {},
   "outputs": [],
   "source": [
    "pipeline(train_df, test_df)"
   ]
  },
  {
   "cell_type": "markdown",
   "metadata": {},
   "source": [
    "1.1.3 solo target encoder"
   ]
  },
  {
   "cell_type": "code",
   "execution_count": null,
   "metadata": {},
   "outputs": [],
   "source": [
    "train_df, test_df = t_encoder(scaled_train_df, scaled_test_df, ['service', 'protocol_type', 'flag'])"
   ]
  },
  {
   "cell_type": "markdown",
   "metadata": {},
   "source": [
    "1.1.3.1 f_classif \\\n",
    "1.1.3.2 chi2 \\\n",
    "1.1.3.3 mutual_info_classif \\\n",
    "1.1.3.4 cfs \\\n",
    "1.1.3.5 rfe \\\n",
    "1.1.3.6 pca "
   ]
  },
  {
   "cell_type": "code",
   "execution_count": null,
   "metadata": {},
   "outputs": [],
   "source": [
    "pipeline(train_df, test_df)"
   ]
  },
  {
   "cell_type": "markdown",
   "metadata": {},
   "source": [
    "1.1.4 ohe + label"
   ]
  },
  {
   "cell_type": "code",
   "execution_count": null,
   "metadata": {},
   "outputs": [],
   "source": [
    "train_df, test_df = oh_encoder(scaled_train_df, scaled_test_df, ['protocol_type', 'flag'])\n",
    "train_df, test_df = l_encoder(train_df, test_df, ['service',])"
   ]
  },
  {
   "cell_type": "markdown",
   "metadata": {},
   "source": [
    "1.1.4.1 f_classif \\\n",
    "1.1.4.2 chi2 \\\n",
    "1.1.4.3 mutual_info_classif \\\n",
    "1.1.4.4 cfs \\\n",
    "1.1.4.5 rfe \\\n",
    "1.1.4.6 pca "
   ]
  },
  {
   "cell_type": "code",
   "execution_count": null,
   "metadata": {},
   "outputs": [],
   "source": [
    "pipeline(train_df, test_df)"
   ]
  },
  {
   "cell_type": "markdown",
   "metadata": {},
   "source": [
    "1.1.5 ohe + target"
   ]
  },
  {
   "cell_type": "code",
   "execution_count": null,
   "metadata": {},
   "outputs": [],
   "source": [
    "train_df, test_df = t_encoder(scaled_train_df, scaled_test_df, ['service', ])\n",
    "train_df, test_df = oh_encoder(train_df, test_df, ['protocol_type', 'flag'])"
   ]
  },
  {
   "cell_type": "markdown",
   "metadata": {},
   "source": [
    "1.1.5.1 f_classif \\\n",
    "1.1.5.2 chi2 \\\n",
    "1.1.5.3 mutual_info_classif \\\n",
    "1.1.5.4 cfs \\\n",
    "1.1.5.5 rfe \\\n",
    "1.1.5.6 pca "
   ]
  },
  {
   "cell_type": "code",
   "execution_count": null,
   "metadata": {},
   "outputs": [],
   "source": [
    "pipeline(train_df, test_df)"
   ]
  },
  {
   "cell_type": "markdown",
   "metadata": {},
   "source": [
    "1.2 Non scalato"
   ]
  },
  {
   "cell_type": "code",
   "execution_count": null,
   "metadata": {},
   "outputs": [],
   "source": [
    "# DIOCANE\n",
    "unscaled_train_df = Dataset(starting_train_df, columns).get_label2()\n",
    "unscaled_test_df = Dataset(starting_test_df, columns).get_label2()"
   ]
  },
  {
   "cell_type": "markdown",
   "metadata": {},
   "source": [
    "1.2.1 Solo one hot encoder"
   ]
  },
  {
   "cell_type": "code",
   "execution_count": null,
   "metadata": {},
   "outputs": [],
   "source": [
    "train_df, test_df = oh_encoder(unscaled_train_df, unscaled_test_df, ['protocol_type', 'flag', 'service'])"
   ]
  },
  {
   "cell_type": "markdown",
   "metadata": {},
   "source": [
    "1.2.1.1 f_classif \\\n",
    "1.2.1.2 chi2 \\\n",
    "1.2.1.3 mutual_info_classif \\\n",
    "1.2.1.4 cfs \\\n",
    "1.2.1.5 rfe \\\n",
    "1.2.1.6 pca "
   ]
  },
  {
   "cell_type": "code",
   "execution_count": null,
   "metadata": {},
   "outputs": [],
   "source": [
    "pipeline(train_df, test_df)"
   ]
  },
  {
   "cell_type": "markdown",
   "metadata": {},
   "source": [
    "1.2.2 Solo label encoder"
   ]
  },
  {
   "cell_type": "code",
   "execution_count": null,
   "metadata": {},
   "outputs": [],
   "source": [
    "train_df, test_df = l_encoder(unscaled_train_df, unscaled_test_df, ['service', 'protocol_type', 'flag'])"
   ]
  },
  {
   "cell_type": "markdown",
   "metadata": {},
   "source": [
    "1.2.2.1 f_classif \\\n",
    "1.2.2.2 chi2 \\\n",
    "1.2.2.3 mutual_info_classif \\\n",
    "1.2.2.4 cfs \\\n",
    "1.2.2.5 rfe \\\n",
    "1.2.2.6 pca "
   ]
  },
  {
   "cell_type": "code",
   "execution_count": null,
   "metadata": {},
   "outputs": [],
   "source": [
    "pipeline(train_df, test_df)"
   ]
  },
  {
   "cell_type": "markdown",
   "metadata": {},
   "source": [
    "1.2.3 solo target encoder"
   ]
  },
  {
   "cell_type": "code",
   "execution_count": null,
   "metadata": {},
   "outputs": [],
   "source": [
    "train_df, test_df = t_encoder(unscaled_train_df, unscaled_test_df, ['service', 'protocol_type', 'flag'])"
   ]
  },
  {
   "cell_type": "markdown",
   "metadata": {},
   "source": [
    "1.2.3.1 f_classif \\\n",
    "1.2.3.2 chi2 \\\n",
    "1.2.3.3 mutual_info_classif \\\n",
    "1.2.3.4 cfs \\\n",
    "1.2.3.5 rfe \\\n",
    "1.2.3.6 pca "
   ]
  },
  {
   "cell_type": "code",
   "execution_count": null,
   "metadata": {},
   "outputs": [],
   "source": [
    "pipeline(train_df, test_df)"
   ]
  },
  {
   "cell_type": "markdown",
   "metadata": {},
   "source": [
    "1.2.4 ohe + label"
   ]
  },
  {
   "cell_type": "code",
   "execution_count": null,
   "metadata": {},
   "outputs": [],
   "source": [
    "train_df, test_df = oh_encoder(unscaled_train_df, unscaled_test_df, ['protocol_type', 'flag'])\n",
    "train_df, test_df = l_encoder(train_df, test_df, ['service', ])"
   ]
  },
  {
   "cell_type": "markdown",
   "metadata": {},
   "source": [
    "1.2.4.1 f_classif \\\n",
    "1.2.4.2 chi2 \\\n",
    "1.2.4.3 mutual_info_classif \\\n",
    "1.2.4.4 cfs \\\n",
    "1.2.4.5 rfe \\\n",
    "1.2.4.6 pca "
   ]
  },
  {
   "cell_type": "code",
   "execution_count": null,
   "metadata": {},
   "outputs": [],
   "source": [
    "pipeline(train_df, test_df)"
   ]
  },
  {
   "cell_type": "markdown",
   "metadata": {},
   "source": [
    "1.2.5 ohe + target"
   ]
  },
  {
   "cell_type": "code",
   "execution_count": null,
   "metadata": {},
   "outputs": [],
   "source": [
    "train_df, test_df = t_encoder(unscaled_train_df, unscaled_test_df, ['service', ])\n",
    "train_df, test_df = oh_encoder(train_df, test_df, ['protocol_type', 'flag'])"
   ]
  },
  {
   "cell_type": "markdown",
   "metadata": {},
   "source": [
    "1.2.5.1 f_classif \\\n",
    "1.2.5.2 chi2 \\\n",
    "1.2.5.3 mutual_info_classif \\\n",
    "1.2.5.4 cfs \\\n",
    "1.2.5.5 rfe \\\n",
    "1.2.5.6 pca "
   ]
  },
  {
   "cell_type": "code",
   "execution_count": null,
   "metadata": {},
   "outputs": [],
   "source": [
    "pipeline(train_df, test_df)"
   ]
  },
  {
   "cell_type": "markdown",
   "metadata": {},
   "source": [
    "1.3 Discretizzato"
   ]
  },
  {
   "cell_type": "code",
   "execution_count": null,
   "metadata": {},
   "outputs": [],
   "source": [
    "train_df = Dataset(starting_train_df, columns).get_label2()\n",
    "test_df = Dataset(starting_test_df, columns).get_label2()\n",
    "\n",
    "discretizer = KBinsDiscretizer(n_bins=5, encode='ordinal', strategy='uniform')\n",
    "X_train = train_df.drop(columns=['label'])\n",
    "X_test = test_df.drop(columns=['label'])\n",
    "X_train = discretizer.fit_transform(X_train)\n",
    "X_test = discretizer.transform(X_test)\n",
    "\n",
    "discretized_train_df = pd.concat([pd.DataFrame(X_train), train_df['label']], axis=1)\n",
    "discretized_test_df = pd.concat([pd.DataFrame(X_test), test_df['label']], axis=1)"
   ]
  },
  {
   "cell_type": "markdown",
   "metadata": {},
   "source": [
    "1.3.1 Solo one hot encoder"
   ]
  },
  {
   "cell_type": "code",
   "execution_count": null,
   "metadata": {},
   "outputs": [],
   "source": [
    "train_df, test_df = oh_encoder(discretized_train_df, discretized_test_df, ['protocol_type', 'flag', 'service'])"
   ]
  },
  {
   "cell_type": "markdown",
   "metadata": {},
   "source": [
    "1.1.3.1 f_classif \\\n",
    "1.1.3.2 chi2 \\\n",
    "1.1.3.3 mutual_info_classif \\\n",
    "1.1.3.4 cfs \\\n",
    "1.1.3.5 rfe \\\n",
    "1.1.3.6 pca "
   ]
  },
  {
   "cell_type": "code",
   "execution_count": null,
   "metadata": {},
   "outputs": [],
   "source": [
    "pipeline(train_df, test_df)"
   ]
  },
  {
   "cell_type": "markdown",
   "metadata": {},
   "source": [
    "1.3.2 Solo label encoder"
   ]
  },
  {
   "cell_type": "code",
   "execution_count": null,
   "metadata": {},
   "outputs": [],
   "source": [
    "train_df, test_df = l_encoder(discretized_train_df, discretized_test_df, ['service', 'protocol_type', 'flag'])"
   ]
  },
  {
   "cell_type": "markdown",
   "metadata": {},
   "source": [
    "1.3.2.1 f_classif \\\n",
    "1.3.2.2 chi2 \\\n",
    "1.3.2.3 mutual_info_classif \\\n",
    "1.3.2.4 cfs \\\n",
    "1.3.2.5 rfe \\\n",
    "1.3.2.6 pca "
   ]
  },
  {
   "cell_type": "code",
   "execution_count": null,
   "metadata": {},
   "outputs": [],
   "source": [
    "pipeline(train_df, test_df)"
   ]
  },
  {
   "cell_type": "markdown",
   "metadata": {},
   "source": [
    "1.3.3 solo target encoder"
   ]
  },
  {
   "cell_type": "code",
   "execution_count": null,
   "metadata": {},
   "outputs": [],
   "source": [
    "train_df, test_df = t_encoder(discretized_train_df, discretized_test_df, ['service', 'protocol_type', 'flag'])"
   ]
  },
  {
   "cell_type": "markdown",
   "metadata": {},
   "source": [
    "1.3.3.1 f_classif \\\n",
    "1.3.3.2 chi2 \\\n",
    "1.3.3.3 mutual_info_classif \\\n",
    "1.3.3.4 cfs \\\n",
    "1.3.3.5 rfe \\\n",
    "1.3.3.6 pca "
   ]
  },
  {
   "cell_type": "code",
   "execution_count": null,
   "metadata": {},
   "outputs": [],
   "source": [
    "pipeline(train_df, test_df)"
   ]
  },
  {
   "cell_type": "markdown",
   "metadata": {},
   "source": [
    "1.3.4 ohe + label"
   ]
  },
  {
   "cell_type": "code",
   "execution_count": null,
   "metadata": {},
   "outputs": [],
   "source": [
    "train_df, test_df = oh_encoder(discretized_train_df, discretized_test_df, ['protocol_type', 'flag'])\n",
    "train_df, test_df = l_encoder(train_df, test_df, ['service', ])"
   ]
  },
  {
   "cell_type": "markdown",
   "metadata": {},
   "source": [
    "1.3.4.1 f_classif \\\n",
    "1.3.4.2 chi2 \\\n",
    "1.3.4.3 mutual_info_classif \\\n",
    "1.3.4.4 cfs \\\n",
    "1.3.4.5 rfe \\\n",
    "1.3.4.6 pca "
   ]
  },
  {
   "cell_type": "code",
   "execution_count": null,
   "metadata": {},
   "outputs": [],
   "source": [
    "pipeline(train_df, test_df)"
   ]
  },
  {
   "cell_type": "markdown",
   "metadata": {},
   "source": [
    "1.3.5 ohe + target"
   ]
  },
  {
   "cell_type": "code",
   "execution_count": null,
   "metadata": {},
   "outputs": [],
   "source": [
    "train_df, test_df = t_encoder(discretized_train_df, discretized_test_df, ['service', ])\n",
    "train_df, test_df = oh_encoder(train_df, test_df, ['protocol_type', 'flag'])"
   ]
  },
  {
   "cell_type": "markdown",
   "metadata": {},
   "source": [
    "1.3.5.1 f_classif \\\n",
    "1.3.5.2 chi2 \\\n",
    "1.3.5.3 mutual_info_classif \\\n",
    "1.3.5.4 cfs \\\n",
    "1.3.5.5 rfe \\\n",
    "1.3.5.6 pca "
   ]
  },
  {
   "cell_type": "code",
   "execution_count": null,
   "metadata": {},
   "outputs": [],
   "source": [
    "pipeline(train_df, test_df)"
   ]
  },
  {
   "cell_type": "markdown",
   "metadata": {},
   "source": [
    "2. Con 5 label"
   ]
  },
  {
   "cell_type": "code",
   "execution_count": null,
   "metadata": {},
   "outputs": [],
   "source": [
    "train_df = Dataset(starting_train_df, columns).get_label5()\n",
    "test_df = Dataset(starting_test_df, columns).get_label5()"
   ]
  },
  {
   "cell_type": "markdown",
   "metadata": {},
   "source": [
    "2.1 Scalato"
   ]
  },
  {
   "cell_type": "code",
   "execution_count": null,
   "metadata": {},
   "outputs": [],
   "source": [
    "scaled_train_df, scaled_test_df = scaler(train_df, test_df, numeric_features, MinMaxScaler())"
   ]
  },
  {
   "cell_type": "markdown",
   "metadata": {},
   "source": [
    "2.1.1 Solo ohe encoder"
   ]
  },
  {
   "cell_type": "code",
   "execution_count": null,
   "metadata": {},
   "outputs": [],
   "source": [
    "train_df, test_df = oh_encoder(scaled_train_df, scaled_test_df, ['protocol_type', 'flag', 'service'])"
   ]
  },
  {
   "cell_type": "markdown",
   "metadata": {},
   "source": [
    "2.1.1.1 f_classif \\\n",
    "2.1.1.2 chi2 \\\n",
    "2.1.1.3 mutual_info_classif \\\n",
    "2.1.1.4 cfs \\\n",
    "2.1.1.5 rfe \\\n",
    "2.1.1.6 pca "
   ]
  },
  {
   "cell_type": "code",
   "execution_count": null,
   "metadata": {},
   "outputs": [],
   "source": [
    "pipeline(train_df, test_df)"
   ]
  },
  {
   "cell_type": "markdown",
   "metadata": {},
   "source": [
    "2.1.2 Solo label encoder"
   ]
  },
  {
   "cell_type": "code",
   "execution_count": null,
   "metadata": {},
   "outputs": [],
   "source": [
    "train_df, test_df = l_encoder(scaled_train_df, scaled_test_df, ['service', 'protocol_type', 'flag'])"
   ]
  },
  {
   "cell_type": "markdown",
   "metadata": {},
   "source": [
    "2.1.2.1 f_classif \\\n",
    "2.1.2.2 chi2 \\\n",
    "2.1.2.3 mutual_info_classif \\\n",
    "2.1.2.4 cfs \\\n",
    "2.1.2.5 rfe \\\n",
    "2.1.2.6 pca "
   ]
  },
  {
   "cell_type": "code",
   "execution_count": null,
   "metadata": {},
   "outputs": [],
   "source": [
    "pipeline(train_df, test_df)"
   ]
  },
  {
   "cell_type": "markdown",
   "metadata": {},
   "source": [
    "2.1.3 ohe + label"
   ]
  },
  {
   "cell_type": "code",
   "execution_count": null,
   "metadata": {},
   "outputs": [],
   "source": [
    "train_df, test_df = oh_encoder(scaled_train_df, scaled_test_df, ['protocol_type', 'flag'])\n",
    "train_df, test_df = l_encoder(train_df, test_df, ['service', ])"
   ]
  },
  {
   "cell_type": "markdown",
   "metadata": {},
   "source": [
    "2.1.3.1 f_classif \\\n",
    "2.1.3.2 chi2 \\\n",
    "2.1.3.3 mutual_info_classif \\\n",
    "2.1.3.4 cfs \\\n",
    "2.1.3.5 rfe \\\n",
    "2.1.3.6 pca "
   ]
  },
  {
   "cell_type": "code",
   "execution_count": null,
   "metadata": {},
   "outputs": [],
   "source": [
    "pipeline(train_df, test_df)"
   ]
  },
  {
   "cell_type": "markdown",
   "metadata": {},
   "source": [
    "2.2 Non scalato"
   ]
  },
  {
   "cell_type": "code",
   "execution_count": null,
   "metadata": {},
   "outputs": [],
   "source": [
    "# MADONNA BOCCHINARA\n",
    "unscaled_train_df = Dataset(starting_train_df, columns).get_label5()\n",
    "unscaled_test_df = Dataset(starting_test_df, columns).get_label5()"
   ]
  },
  {
   "cell_type": "markdown",
   "metadata": {},
   "source": [
    "2.2.1 Solo ohe encoder"
   ]
  },
  {
   "cell_type": "code",
   "execution_count": null,
   "metadata": {},
   "outputs": [],
   "source": [
    "train_df, test_df = oh_encoder(unscaled_train_df, unscaled_test_df, ['protocol_type', 'flag', 'service'])"
   ]
  },
  {
   "cell_type": "markdown",
   "metadata": {},
   "source": [
    "2.2.1.1 f_classif \\\n",
    "2.2.1.2 chi2 \\\n",
    "2.2.1.3 mutual_info_classif \\\n",
    "2.2.1.4 cfs \\\n",
    "2.2.1.5 rfe \\\n",
    "2.2.1.6 pca "
   ]
  },
  {
   "cell_type": "code",
   "execution_count": null,
   "metadata": {},
   "outputs": [],
   "source": [
    "pipeline(train_df, test_df)"
   ]
  },
  {
   "cell_type": "markdown",
   "metadata": {},
   "source": [
    "2.2.2 Solo label encoder"
   ]
  },
  {
   "cell_type": "code",
   "execution_count": null,
   "metadata": {},
   "outputs": [],
   "source": [
    "train_df, test_df = l_encoder(unscaled_train_df, unscaled_test_df, ['service', 'protocol_type', 'flag'])"
   ]
  },
  {
   "cell_type": "markdown",
   "metadata": {},
   "source": [
    "2.2.2.1 f_classif \\\n",
    "2.2.2.2 chi2 \\\n",
    "2.2.2.3 mutual_info_classif \\\n",
    "2.2.2.4 cfs \\\n",
    "2.2.2.5 rfe \\\n",
    "2.2.2.6 pca "
   ]
  },
  {
   "cell_type": "code",
   "execution_count": null,
   "metadata": {},
   "outputs": [],
   "source": [
    "pipeline(train_df, test_df)"
   ]
  },
  {
   "cell_type": "markdown",
   "metadata": {},
   "source": [
    "2.2.3 ohe + label"
   ]
  },
  {
   "cell_type": "code",
   "execution_count": null,
   "metadata": {},
   "outputs": [],
   "source": [
    "train_df, test_df = oh_encoder(unscaled_train_df, unscaled_test_df, ['protocol_type', 'flag'])\n",
    "train_df, test_df = l_encoder(train_df, test_df, ['service', ])"
   ]
  },
  {
   "cell_type": "markdown",
   "metadata": {},
   "source": [
    "2.2.3.1 f_classif \\\n",
    "2.2.3.2 chi2 \\\n",
    "2.2.3.3 mutual_info_classif \\\n",
    "2.2.3.4 cfs \\\n",
    "2.2.3.5 rfe \\\n",
    "2.2.3.6 pca "
   ]
  },
  {
   "cell_type": "code",
   "execution_count": null,
   "metadata": {},
   "outputs": [],
   "source": [
    "pipeline(train_df, test_df)"
   ]
  },
  {
   "cell_type": "markdown",
   "metadata": {},
   "source": [
    "2.3 Discretizzato"
   ]
  },
  {
   "cell_type": "code",
   "execution_count": null,
   "metadata": {},
   "outputs": [],
   "source": [
    "train_df = Dataset(starting_train_df, columns).get_label5()\n",
    "test_df = Dataset(starting_test_df, columns).get_label5()\n",
    "\n",
    "discretizer = KBinsDiscretizer(n_bins=5, encode='ordinal', strategy='uniform')\n",
    "X_train = train_df.drop(columns=['label'])\n",
    "X_test = test_df.drop(columns=['label'])\n",
    "X_train = discretizer.fit_transform(X_train)\n",
    "X_test = discretizer.transform(X_test)\n",
    "\n",
    "discretized_train_df = pd.concat([pd.DataFrame(X_train), train_df['label']], axis=1)\n",
    "discretized_test_df = pd.concat([pd.DataFrame(X_test), test_df['label']], axis=1)"
   ]
  },
  {
   "cell_type": "markdown",
   "metadata": {},
   "source": [
    "2.3.1 Solo one hot encoder"
   ]
  },
  {
   "cell_type": "code",
   "execution_count": null,
   "metadata": {},
   "outputs": [],
   "source": [
    "train_df, test_df = oh_encoder(discretized_train_df, discretized_test_df, ['protocol_type', 'flag', 'service'])"
   ]
  },
  {
   "cell_type": "markdown",
   "metadata": {},
   "source": [
    "2.1.3.1 f_classif \\\n",
    "2.1.3.2 chi2 \\\n",
    "2.1.3.3 mutual_info_classif \\\n",
    "2.1.3.4 cfs \\\n",
    "2.1.3.5 rfe \\\n",
    "2.1.3.6 pca "
   ]
  },
  {
   "cell_type": "code",
   "execution_count": null,
   "metadata": {},
   "outputs": [],
   "source": [
    "pipeline(train_df, test_df)"
   ]
  },
  {
   "cell_type": "markdown",
   "metadata": {},
   "source": [
    "2.3.2 Solo label encoder"
   ]
  },
  {
   "cell_type": "code",
   "execution_count": null,
   "metadata": {},
   "outputs": [],
   "source": [
    "train_df, test_df = l_encoder(discretized_train_df, discretized_test_df, ['service', 'protocol_type', 'flag'])"
   ]
  },
  {
   "cell_type": "markdown",
   "metadata": {},
   "source": [
    "2.3.2.1 f_classif \\\n",
    "2.3.2.2 chi2 \\\n",
    "2.3.2.3 mutual_info_classif \\\n",
    "2.3.2.4 cfs \\\n",
    "2.3.2.5 rfe \\\n",
    "2.3.2.6 pca "
   ]
  },
  {
   "cell_type": "code",
   "execution_count": null,
   "metadata": {},
   "outputs": [],
   "source": [
    "pipeline(train_df, test_df)"
   ]
  },
  {
   "cell_type": "markdown",
   "metadata": {},
   "source": [
    "1.3.4 ohe + label"
   ]
  },
  {
   "cell_type": "code",
   "execution_count": null,
   "metadata": {},
   "outputs": [],
   "source": [
    "train_df, test_df = oh_encoder(discretized_train_df, discretized_test_df, ['protocol_type', 'flag'])\n",
    "train_df, test_df = l_encoder(train_df, test_df, ['service', ])"
   ]
  },
  {
   "cell_type": "markdown",
   "metadata": {},
   "source": [
    "1.3.4.1 f_classif \\\n",
    "1.3.4.2 chi2 \\\n",
    "1.3.4.3 mutual_info_classif \\\n",
    "1.3.4.4 cfs \\\n",
    "1.3.4.5 rfe \\\n",
    "1.3.4.6 pca "
   ]
  },
  {
   "cell_type": "code",
   "execution_count": null,
   "metadata": {},
   "outputs": [],
   "source": [
    "pipeline(train_df, test_df)"
   ]
  }
 ],
 "metadata": {
  "kernelspec": {
   "display_name": "envTesi",
   "language": "python",
   "name": "python3"
  },
  "language_info": {
   "codemirror_mode": {
    "name": "ipython",
    "version": 3
   },
   "file_extension": ".py",
   "mimetype": "text/x-python",
   "name": "python",
   "nbconvert_exporter": "python",
   "pygments_lexer": "ipython3",
   "version": "3.8.18"
  }
 },
 "nbformat": 4,
 "nbformat_minor": 2
}
