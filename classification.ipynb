{
 "cells": [
  {
   "cell_type": "markdown",
   "metadata": {},
   "source": [
    "This section allows to create all possible combinations of hyperparameters with different preprocessing stages."
   ]
  },
  {
   "cell_type": "code",
   "execution_count": null,
   "metadata": {},
   "outputs": [],
   "source": [
    "import pandas as pd\n",
    "from utility import Dataset, oh_encoder, l_encoder, scaler, get_best_features,  pca, cfs, rfe, sfs\n",
    "from sklearn.preprocessing import MinMaxScaler\n",
    "from sklearn.feature_selection import f_classif, mutual_info_classif, chi2\n",
    "from sklearn.svm import LinearSVC\n",
    "from sklearn.naive_bayes import GaussianNB\n",
    "from sklearn.ensemble import RandomForestClassifier\n",
    "from sklearn.tree import DecisionTreeClassifier\n",
    "from sklearn.metrics import classification_report\n",
    "from sklearn.metrics import classification_report\n",
    "\n",
    "columns = ['duration', 'protocol_type', 'service', 'flag', 'src_bytes', 'dst_bytes', 'land', 'wrong_fragment',\n",
    "           'urgent', 'hot', 'num_failed_logins', 'logged_in', 'num_compromised', 'root_shell', 'su_attempted',\n",
    "           'num_root', 'num_file_creations', 'num_shells', 'num_access_files', 'num_outbound_cmds', 'is_host_login',\n",
    "           'is_guest_login', 'count', 'srv_count', 'serror_rate', 'srv_serror_rate', 'rerror_rate', 'srv_rerror_rate',\n",
    "           'same_srv_rate', 'diff_srv_rate', 'srv_diff_host_rate', 'dst_host_count', 'dst_host_srv_count',\n",
    "           'dst_host_same_srv_rate', 'dst_host_diff_srv_rate', 'dst_host_same_src_port_rate',\n",
    "           'dst_host_srv_diff_host_rate', 'dst_host_serror_rate', 'dst_host_srv_serror_rate', 'dst_host_rerror_rate',\n",
    "           'dst_host_srv_rerror_rate', 'label', 'score']\n",
    "\n",
    "nominal_features = ['protocol_type', 'service', 'flag']\n",
    "binary_features = ['land', 'logged_in', 'root_shell', 'su_attempted', 'is_host_login', 'is_guest_login']\n",
    "numeric_features = [feature for feature in columns if feature not in nominal_features + binary_features + ['label', 'score', 'num_outbound_cmds']]\n",
    "\n",
    "starting_train_df = pd.read_csv(f'dataset/nsl-kdd/KDDTrain+.txt', header=None)\n",
    "starting_test_df = pd.read_csv(f'dataset/nsl-kdd/KDDTest+.txt', header=None)\n",
    "\n",
    "def pipeline(train_df, test_df, type):\n",
    "    models = {\n",
    "        'Random Forest': RandomForestClassifier(),\n",
    "        'Decision Tree': DecisionTreeClassifier(),\n",
    "        'LinearSVC': LinearSVC(),\n",
    "        'GaussianNB': GaussianNB()\n",
    "    }\n",
    "\n",
    "    y_train = train_df['label']\n",
    "    y_test = test_df['label']\n",
    "\n",
    "    with open('results/results.txt', 'a') as f:\n",
    "        f.write(f\"{type} dataset\\n\")\n",
    "        n_features = X_train.shape[1]\n",
    "        for k in range(1, n_features + 1):\n",
    "            for method in [mutual_info_classif, mutual_info_classif, chi2  ]:\n",
    "                print(f\"Selecting {k} best features using {method.__name__}...\")\n",
    "                X_train, X_test = get_best_features(train_df, test_df, method, k)\n",
    "                # X_train, X_test = rfe(train_df, test_df, k)\n",
    "                # X_train, X_test = sfs(train_df, test_df, k)\n",
    "\n",
    "                for name, model in models.items():\n",
    "                    print(f\"Training {name}...\")\n",
    "                    model.fit(X_train, y_train)\n",
    "                    y_pred = model.predict(X_test)\n",
    "                    f.write(f\"Selecting {k} best features using {method.__name__}...\\n\")\n",
    "                    f.write(f\"{name}...\\n\")\n",
    "                    f.write(classification_report(y_test, y_pred, target_names=model.classes_))\n",
    "\n",
    "            X_train, X_test = pca(train_df, test_df, k)\n",
    "            print(f\"Selecting {k} best features using PCA...\")\n",
    "\n",
    "            for name, model in models.items():\n",
    "                print(f\"Training {name}...\")\n",
    "                model.fit(X_train, y_train)\n",
    "                y_pred = model.predict(X_test)\n",
    "                f.write(f\"Selecting {k} best features using PCA...\\n\")\n",
    "                f.write(f\"{name}...\\n\")\n",
    "                f.write(classification_report(y_test, y_pred, target_names=model.classes_))\n",
    "        \n",
    "        X_train, X_test = cfs(train_df, test_df)\n",
    "        print(f\"Selecting best features using CFS...\")\n",
    "\n",
    "        for name, model in models.items():\n",
    "            print(f\"Training {name}...\")\n",
    "            model.fit(X_train, y_train)\n",
    "            y_pred = model.predict(X_test)\n",
    "            f.write(f\"Selecting best features using CFS...\\n\")\n",
    "            f.write(f\"{name}...\\n\")\n",
    "            f.write(classification_report(y_test, y_pred, target_names=model.classes_))"
   ]
  },
  {
   "cell_type": "code",
   "execution_count": null,
   "metadata": {},
   "outputs": [],
   "source": [
    "# choose if run binary or multiclass classification\n",
    "\n",
    "train_df = Dataset(starting_train_df, columns).get_label2()\n",
    "test_df = Dataset(starting_test_df, columns).get_label2()\n",
    "\n",
    "# train_df = Dataset(starting_train_df, columns).get_label5()\n",
    "# test_df = Dataset(starting_test_df, columns).get_label5()"
   ]
  },
  {
   "cell_type": "code",
   "execution_count": null,
   "metadata": {},
   "outputs": [],
   "source": [
    "train_df, test_df = scaler(train_df, test_df, numeric_features, MinMaxScaler())"
   ]
  },
  {
   "cell_type": "code",
   "execution_count": null,
   "metadata": {},
   "outputs": [],
   "source": [
    "# choose which encoding to use\n",
    "\n",
    "train_df, test_df = l_encoder(train_df, test_df, ['service', 'protocol_type', 'flag'])\n",
    "\n",
    "# train_df, test_df = oh_encoder(train_df, test_df, ['protocol_type', 'flag', 'service'])"
   ]
  },
  {
   "cell_type": "code",
   "execution_count": null,
   "metadata": {},
   "outputs": [],
   "source": [
    "pipeline(train_df, test_df, 'Binary, scaled, label_encoded')"
   ]
  },
  {
   "cell_type": "markdown",
   "metadata": {},
   "source": [
    "# One-class classification"
   ]
  },
  {
   "cell_type": "code",
   "execution_count": 4,
   "metadata": {},
   "outputs": [
    {
     "name": "stderr",
     "output_type": "stream",
     "text": [
      "c:\\Users\\crist\\miniconda3\\envs\\envTesi\\lib\\site-packages\\sklearn\\model_selection\\_search.py:976: UserWarning: One or more of the test scores are non-finite: [nan]\n",
      "  warnings.warn(\n"
     ]
    },
    {
     "name": "stdout",
     "output_type": "stream",
     "text": [
      "Best parameters found:  {'gamma': 0.5, 'kernel': 'rbf', 'nu': 0.01}\n",
      "              precision    recall  f1-score   support\n",
      "\n",
      "      attack       0.98      0.98      0.98     71463\n",
      "      normal       0.85      0.87      0.86      9711\n",
      "\n",
      "    accuracy                           0.97     81174\n",
      "   macro avg       0.91      0.93      0.92     81174\n",
      "weighted avg       0.97      0.97      0.97     81174\n",
      "\n"
     ]
    }
   ],
   "source": [
    "from sklearn import svm\n",
    "import pandas as pd\n",
    "import matplotlib.pyplot as plt\n",
    "\n",
    "from utility import Dataset, l_encoder, scaler\n",
    "from sklearn.preprocessing import StandardScaler\n",
    "from sklearn.model_selection import GridSearchCV\n",
    "\n",
    "from sklearn.metrics import classification_report\n",
    "\n",
    "columns = ['duration', 'protocol_type', 'service', 'flag', 'src_bytes', 'dst_bytes', 'land', 'wrong_fragment',\n",
    "           'urgent', 'hot', 'num_failed_logins', 'logged_in', 'num_compromised', 'root_shell', 'su_attempted',\n",
    "           'num_root', 'num_file_creations', 'num_shells', 'num_access_files', 'num_outbound_cmds', 'is_host_login',\n",
    "           'is_guest_login', 'count', 'srv_count', 'serror_rate', 'srv_serror_rate', 'rerror_rate', 'srv_rerror_rate',\n",
    "           'same_srv_rate', 'diff_srv_rate', 'srv_diff_host_rate', 'dst_host_count', 'dst_host_srv_count',\n",
    "           'dst_host_same_srv_rate', 'dst_host_diff_srv_rate', 'dst_host_same_src_port_rate',\n",
    "           'dst_host_srv_diff_host_rate', 'dst_host_serror_rate', 'dst_host_srv_serror_rate', 'dst_host_rerror_rate',\n",
    "           'dst_host_srv_rerror_rate', 'label', 'score']\n",
    "\n",
    "nominal_features = ['protocol_type', 'service', 'flag']\n",
    "binary_features = ['land', 'logged_in', 'root_shell', 'su_attempted', 'is_host_login', 'is_guest_login']\n",
    "numeric_features = [feature for feature in columns if feature not in nominal_features + binary_features + ['label', 'score', 'num_outbound_cmds']]\n",
    "\n",
    "train_df = pd.read_csv(f'dataset/nsl-kdd/KDDTrain+.txt', header=None)\n",
    "test_df = pd.read_csv(f'dataset/nsl-kdd/KDDTest+.txt', header=None)\n",
    "\n",
    "train_df = Dataset(train_df, columns).get_label5()\n",
    "test_df = Dataset(test_df, columns).get_label5()\n",
    "\n",
    "train_df, test_df = l_encoder(train_df, test_df, ['service', 'protocol_type', 'flag'])\n",
    "train_df, test_df = scaler(train_df, test_df, numeric_features, StandardScaler())\n",
    "\n",
    "X_train = train_df[train_df['label'] == 'normal'].drop(columns=['label'])\n",
    "y_train = train_df[train_df['label'] == 'normal']['label']\n",
    "X_test = test_df[test_df['label'] == 'normal'].drop(columns=['label'])\n",
    "y_test = test_df[test_df['label'] == 'normal']['label']\n",
    "\n",
    "X_train_outliers = train_df[train_df['label'] != 'normal'].drop(columns=['label'])\n",
    "y_train_outliers = train_df[train_df['label'] != 'normal']['label']\n",
    "X_test_outliers = test_df[test_df['label'] != 'normal'].drop(columns=['label'])\n",
    "y_test_outliers = test_df[test_df['label'] != 'normal']['label']\n",
    "\n",
    "param_grid = {\n",
    "    'kernel': ['rbf', 'sigmoid', 'linear', 'poly'],\n",
    "    'gamma': ['scale', 'auto', 0.1, 0.01, 0.5],\n",
    "    'nu': [0.1, 0.05, 0.01, 0.001]\n",
    "}\n",
    "\n",
    "clf = svm.OneClassSVM()\n",
    "grid_search = GridSearchCV(estimator=clf, param_grid=param_grid, n_jobs=-1, scoring='accuracy')\n",
    "grid_search.fit(X_train)    \n",
    "print(\"Best parameters found: \", grid_search.best_params_)\n",
    "clf = svm.OneClassSVM(**grid_search.best_params_)\n",
    "clf.fit(X_train)\n",
    "\n",
    "y_pred_train = clf.predict(X_train)\n",
    "y_pred_test = clf.predict(X_test)\n",
    "y_pred_outliers = clf.predict(X_train_outliers)\n",
    "y_pred_outliers_test = clf.predict(X_test_outliers)\n",
    "\n",
    "n_error_train = y_pred_train[y_pred_train == -1].size\n",
    "n_error_test = y_pred_test[y_pred_test == -1].size\n",
    "n_error_outliers = y_pred_outliers[y_pred_outliers == 1].size\n",
    "n_error_outliers += y_pred_outliers_test[y_pred_outliers_test == 1].size\n",
    "\n",
    "y_pred_train = ['attack' if x == -1 else 'normal' for x in y_pred_train]\n",
    "y_pred_test = ['attack' if x == -1 else 'normal' for x in y_pred_test]\n",
    "y_pred_outliers = ['attack' if x == -1 else 'normal' for x in y_pred_outliers]\n",
    "y_pred_outliers_test = ['attack' if x == -1 else 'normal' for x in y_pred_outliers_test]\n",
    "\n",
    "y_true_train = ['normal'] * len(y_pred_train)\n",
    "y_true_test = ['normal'] * len(y_pred_test)\n",
    "y_true_outliers = ['attack'] * len(y_pred_outliers)\n",
    "y_true_outliers_test = ['attack'] * len(y_pred_outliers_test)\n",
    "\n",
    "y_true = y_true_test + y_true_outliers + y_true_outliers_test\n",
    "y_pred = y_pred_test + y_pred_outliers + y_pred_outliers_test\n",
    "print(classification_report(y_true, y_pred))\n"
   ]
  },
  {
   "cell_type": "code",
   "execution_count": 5,
   "metadata": {},
   "outputs": [
    {
     "data": {
      "image/png": "[encoded data removed]",
      "text/plain": [
       "<Figure size 640x480 with 1 Axes>"
      ]
     },
     "metadata": {},
     "output_type": "display_data"
    },
    {
     "name": "stdout",
     "output_type": "stream",
     "text": [
      "AUC:  0.9326699008017596\n"
     ]
    }
   ],
   "source": [
    "from sklearn.metrics import roc_curve, roc_auc_score\n",
    "y_true_train = [1] * len(y_pred_train)\n",
    "y_true_test = [1] * len(y_pred_test)\n",
    "y_true_outliers = [-1] * len(y_pred_outliers)\n",
    "y_true_outliers_test = [-1] * len(y_pred_outliers_test)\n",
    "\n",
    "X_test = test_df.drop(columns=['label'])\n",
    "y_test = test_df['label']\n",
    "y_test = [1 if x == 'normal' else -1 for x in y_test]\n",
    "\n",
    "decision_scores = clf.decision_function(X_test)\n",
    "fpr, tpr, thresholds = roc_curve(y_test, decision_scores)\n",
    "auc_score = roc_auc_score(y_test, decision_scores)\n",
    "\n",
    "plt.figure()\n",
    "plt.plot(fpr, tpr, color='darkorange', lw=2, label='ROC curve (AUC = %0.2f)' % auc_score)\n",
    "plt.plot([0, 1], [0, 1], color='navy', lw=2, linestyle='--')\n",
    "plt.xlim([0.0, 1.0])\n",
    "plt.ylim([0.0, 1.05])\n",
    "plt.xlabel('False Positive Rate')\n",
    "plt.ylabel('True Positive Rate')\n",
    "plt.title('Receiver Operating Characteristic - One Class SVM')\n",
    "plt.legend(loc=\"lower right\")\n",
    "plt.show()\n",
    "\n",
    "print(\"AUC: \", auc_score)"
   ]
  },
  {
   "cell_type": "markdown",
   "metadata": {},
   "source": [
    "Save the model for later use"
   ]
  },
  {
   "cell_type": "code",
   "execution_count": 13,
   "metadata": {},
   "outputs": [
    {
     "data": {
      "text/plain": [
       "['model/encoder_flag.pkl']"
      ]
     },
     "execution_count": 13,
     "metadata": {},
     "output_type": "execute_result"
    }
   ],
   "source": [
    "import joblib\n",
    "from sklearn.preprocessing import LabelEncoder\n",
    "from sklearn.preprocessing import StandardScaler\n",
    "\n",
    "train_df = pd.read_csv(f'dataset/nsl-kdd/KDDTrain+.txt', header=None)\n",
    "\n",
    "train_df = Dataset(train_df, columns).get_label5()\n",
    "\n",
    "scaler = StandardScaler()\n",
    "scaler.fit(train_df[numeric_features])\n",
    "\n",
    "encoder_service = LabelEncoder()\n",
    "encoder_service.fit(train_df['service'])\n",
    "encoder_protocol_type = LabelEncoder()\n",
    "encoder_protocol_type.fit(train_df['protocol_type'])\n",
    "encoder_flag = LabelEncoder()\n",
    "encoder_flag.fit(train_df['flag'])\n",
    "\n",
    "joblib.dump(clf, 'model/one_class_svm_model.pkl')\n",
    "joblib.dump(scaler, 'model/scaler.pkl')\n",
    "joblib.dump(encoder_service, 'model/encoder_service.pkl')\n",
    "joblib.dump(encoder_protocol_type, 'model/encoder_protocol_type.pkl')\n",
    "joblib.dump(encoder_flag, 'model/encoder_flag.pkl')"
   ]
  }
 ],
 "metadata": {
  "kernelspec": {
   "display_name": "envTesi",
   "language": "python",
   "name": "python3"
  },
  "language_info": {
   "codemirror_mode": {
    "name": "ipython",
    "version": 3
   },
   "file_extension": ".py",
   "mimetype": "text/x-python",
   "name": "python",
   "nbconvert_exporter": "python",
   "pygments_lexer": "ipython3",
   "version": "3.8.18"
  }
 },
 "nbformat": 4,
 "nbformat_minor": 2
}
