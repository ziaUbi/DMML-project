{
 "cells": [
  {
   "cell_type": "markdown",
   "metadata": {},
   "source": [
    "1. Distribuzione delle Etichette (Attacchi e Normale)"
   ]
  },
  {
   "cell_type": "code",
   "execution_count": null,
   "metadata": {},
   "outputs": [],
   "source": [
    "import pandas as pd\n",
    "import seaborn as sns\n",
    "import matplotlib.pyplot as plt\n",
    "\n",
    "name = 'Train'\n",
    "df = pd.read_csv(f'KDD{name}+.txt', header=None)\n",
    "\n",
    "df.columns = ['duration', 'protocol_type', 'service', 'flag', 'src_bytes', 'dst_bytes', 'land', 'wrong_fragment',\n",
    "              'urgent', 'hot', 'num_failed_logins', 'logged_in', 'num_compromised', 'root_shell', 'su_attempted',\n",
    "              'num_root', 'num_file_creations', 'num_shells', 'num_access_files', 'num_outbound_cmds', 'is_host_login',\n",
    "              'is_guest_login', 'count', 'srv_count', 'serror_rate', 'srv_serror_rate', 'rerror_rate', 'srv_rerror_rate',\n",
    "              'same_srv_rate', 'diff_srv_rate', 'srv_diff_host_rate', 'dst_host_count', 'dst_host_srv_count',\n",
    "              'dst_host_same_srv_rate', 'dst_host_diff_srv_rate', 'dst_host_same_src_port_rate',\n",
    "              'dst_host_srv_diff_host_rate', 'dst_host_serror_rate', 'dst_host_srv_serror_rate', 'dst_host_rerror_rate',\n",
    "              'dst_host_srv_rerror_rate', 'label', 'score']\n",
    "\n",
    "df['label'] = df['label'].replace({'normal': 'normal',\n",
    "                                   \n",
    "                                   'neptune': 'dos', 'back': 'dos', 'land': 'dos',\n",
    "                                   'pod': 'dos', 'smurf': 'dos', 'teardrop': 'dos', 'mailbomb': 'dos',\n",
    "                                   'apache2': 'dos', 'processtable': 'dos', 'udpstorm': 'dos', 'worm': 'dos',\n",
    "\n",
    "                                   'ipsweep': 'probe', 'nmap': 'probe', 'portsweep': 'probe', 'satan': 'probe',\n",
    "                                   'mscan': 'probe', 'saint': 'probe', \n",
    "\n",
    "                                   'ftp_write': 'r2l', 'guess_passwd': 'r2l','imap': 'r2l', 'multihop': 'r2l', 'phf': 'r2l', 'spy': 'r2l', 'warezclient': 'r2l',\n",
    "                                   'warezmaster': 'r2l', 'sendmail': 'r2l', 'named': 'r2l', 'snmpgetattack': 'r2l',\n",
    "                                   'snmpguess': 'r2l', 'xlock': 'r2l', 'xsnoop': 'r2l', 'httptunnel': 'r2l',\n",
    "\n",
    "                                   'buffer_overflow': 'u2r', 'loadmodule': 'u2r', 'perl': 'u2r', 'rootkit': 'u2r',\n",
    "                                   'ps': 'u2r', 'sqlattack': 'u2r', 'xterm': 'u2r'\n",
    "                                   })\n",
    "\n",
    "nominal_features = ['protocol_type', 'service', 'flag']\n",
    "binary_features = ['land', 'logged_in', 'root_shell', 'su_attempted', 'is_host_login', 'is_guest_login']\n",
    "numeric_features = [feature for feature in df.columns if feature not in nominal_features + binary_features + ['label', 'score']]\n",
    "\n",
    "plt.figure(figsize=(10, 6))\n",
    "sns.countplot(x='label', data=df, order = df['label'].value_counts().index)\n",
    "plt.xlabel(f'{name} labels')\n",
    "for i in range(len(df['label'].value_counts())):\n",
    "    plt.text(i, df['label'].value_counts()[i], df['label'].value_counts()[i], ha = 'center')\n",
    "plt.title('Distribuzione delle etichette')\n",
    "plt.show()"
   ]
  },
  {
   "cell_type": "markdown",
   "metadata": {},
   "source": [
    "2. Grafici a barre per le feature categoriche"
   ]
  },
  {
   "cell_type": "code",
   "execution_count": null,
   "metadata": {},
   "outputs": [],
   "source": [
    "for feature in nominal_features:\n",
    "    plt.figure(figsize=(10, 6))\n",
    "    sns.countplot(x=feature, data=df, order = df[feature].value_counts().index)\n",
    "    plt.title(f'Distribuzione di {feature}')\n",
    "    plt.xticks(rotation=90)\n",
    "    for i in range(len(df[feature].value_counts())):\n",
    "        plt.text(i, df[feature].value_counts()[i], df[feature].value_counts()[i], ha = 'center')\n",
    "    plt.show()\n"
   ]
  },
  {
   "cell_type": "markdown",
   "metadata": {},
   "source": [
    "3. Grafico a barre per le feature binarie"
   ]
  },
  {
   "cell_type": "code",
   "execution_count": null,
   "metadata": {},
   "outputs": [],
   "source": [
    "for feature in binary_features:\n",
    "    plt.figure(figsize=(8, 5))\n",
    "    sns.countplot(x=feature, data=df, order = df[feature].value_counts().index)\n",
    "    plt.title(f'Distribuzione di {feature}')\n",
    "    for i in range(len(df[feature].value_counts())):\n",
    "        plt.text(i, df[feature].value_counts()[i], df[feature].value_counts()[i], ha = 'center')\n",
    "    plt.show()\n"
   ]
  },
  {
   "cell_type": "markdown",
   "metadata": {},
   "source": [
    "4. Istogrammi per le feature discrete"
   ]
  },
  {
   "cell_type": "code",
   "execution_count": null,
   "metadata": {},
   "outputs": [],
   "source": [
    "discrete_features = ['wrong_fragment', 'urgent', 'su_attempted', 'count', 'score']\n",
    "\n",
    "for feature in discrete_features:\n",
    "    plt.figure(figsize=(10, 6))\n",
    "    sns.histplot(df[feature], kde=False, bins=30)\n",
    "    plt.title(f'Distribuzione di {feature}')\n",
    "    plt.show()\n"
   ]
  },
  {
   "cell_type": "markdown",
   "metadata": {},
   "source": [
    "5. Boxplot per le feature continue"
   ]
  },
  {
   "cell_type": "code",
   "execution_count": null,
   "metadata": {},
   "outputs": [],
   "source": [
    "continuous_features = ['duration', 'src_bytes', 'dst_bytes', 'hot', 'num_failed_logins', 'num_compromised']\n",
    "\n",
    "for feature in continuous_features:\n",
    "    plt.figure(figsize=(10, 6))\n",
    "    sns.boxplot(x='label', y=feature, data=df)  # Per visualizzare la differenza tra attacchi e normale\n",
    "    plt.title(f'Distribuzione di {feature}')\n",
    "    plt.show()\n"
   ]
  },
  {
   "cell_type": "markdown",
   "metadata": {},
   "source": [
    "6. Scatter plot per le feature continue"
   ]
  },
  {
   "cell_type": "code",
   "execution_count": null,
   "metadata": {},
   "outputs": [],
   "source": [
    "plt.figure(figsize=(10, 6))\n",
    "sns.scatterplot(x='duration', y='src_bytes', hue='label', data=df)\n",
    "plt.title('Scatter plot tra feature1 e feature5')\n",
    "plt.show()\n"
   ]
  },
  {
   "cell_type": "markdown",
   "metadata": {},
   "source": [
    "7. Heatmap delle correlazioni"
   ]
  },
  {
   "cell_type": "code",
   "execution_count": null,
   "metadata": {},
   "outputs": [],
   "source": [
    "plt.figure(figsize=(24, 16))\n",
    "correlation = df.corr()\n",
    "sns.heatmap(correlation, annot=True, cmap='coolwarm')\n",
    "plt.title('Mappa di calore delle correlazioni')\n",
    "plt.show()"
   ]
  },
  {
   "cell_type": "markdown",
   "metadata": {},
   "source": [
    "8. Boxplot del punteggio di severità"
   ]
  },
  {
   "cell_type": "code",
   "execution_count": null,
   "metadata": {},
   "outputs": [],
   "source": [
    "plt.figure(figsize=(10, 6))\n",
    "sns.boxplot(x='label', y='score', data=df)\n",
    "plt.title('Distribuzione del punteggio di severità')\n",
    "plt.show()\n"
   ]
  },
  {
   "cell_type": "markdown",
   "metadata": {},
   "source": [
    "9. Line plot per le feature time-based"
   ]
  },
  {
   "cell_type": "code",
   "execution_count": null,
   "metadata": {},
   "outputs": [],
   "source": [
    "time_based_features = ['count', 'srv_count', 'serror_rate']\n",
    "\n",
    "for feature in time_based_features:\n",
    "    plt.figure(figsize=(10, 6))\n",
    "    plt.plot(df[feature])\n",
    "    plt.title(f'Andamento temporale di {feature}')\n",
    "    plt.show()\n"
   ]
  }
 ],
 "metadata": {
  "kernelspec": {
   "display_name": "envTesi",
   "language": "python",
   "name": "python3"
  },
  "language_info": {
   "codemirror_mode": {
    "name": "ipython",
    "version": 3
   },
   "file_extension": ".py",
   "mimetype": "text/x-python",
   "name": "python",
   "nbconvert_exporter": "python",
   "pygments_lexer": "ipython3",
   "version": "3.8.18"
  }
 },
 "nbformat": 4,
 "nbformat_minor": 2
}
