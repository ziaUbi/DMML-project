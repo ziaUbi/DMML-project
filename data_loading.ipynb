{
 "cells": [
  {
   "cell_type": "code",
   "execution_count": 28,
   "metadata": {},
   "outputs": [],
   "source": [
    "def assign_attack_type(label):\n",
    "        attack_dict = { 'normal': 'normal',\n",
    "                                   \n",
    "                'neptune': 'dos', 'back': 'dos', 'land': 'dos',\n",
    "                'pod': 'dos', 'smurf': 'dos', 'teardrop': 'dos', 'mailbomb': 'dos',\n",
    "                'apache2': 'dos', 'processtable': 'dos', 'udpstorm': 'dos', 'worm': 'dos',\n",
    "\n",
    "                'ipsweep': 'probe', 'nmap': 'probe', 'portsweep': 'probe', 'satan': 'probe',\n",
    "                'mscan': 'probe', 'saint': 'probe', \n",
    "\n",
    "                'ftp_write': 'r2l', 'guess_passwd': 'r2l','imap': 'r2l', 'multihop': 'r2l', 'phf': 'r2l', 'spy': 'r2l', 'warezclient': 'r2l',\n",
    "                'warezmaster': 'r2l', 'sendmail': 'r2l', 'named': 'r2l', 'snmpgetattack': 'r2l',\n",
    "                'snmpguess': 'r2l', 'xlock': 'r2l', 'xsnoop': 'r2l', 'httptunnel': 'r2l',\n",
    "\n",
    "                'buffer_overflow': 'u2r', 'loadmodule': 'u2r', 'perl': 'u2r', 'rootkit': 'u2r',\n",
    "                'ps': 'u2r', 'sqlattack': 'u2r', 'xterm': 'u2r'\n",
    "                }\n",
    "        return attack_dict[label]\n",
    "\n",
    "class Dataset:    \n",
    "    def __init__(self, data):\n",
    "        self.data = data\n",
    "\n",
    "    def get_data(self):\n",
    "        return self.data\n",
    "    \n",
    "    def get_label2(self):\n",
    "        self.label2 = self.data.copy()\n",
    "        self.label2['label'] = self.label2['label'].apply(lambda x: 'normal' if x == 'normal' else 'attack')\n",
    "        return self.label2\n",
    "    \n",
    "    def get_label5(self):\n",
    "        self.label5 = self.data.copy()\n",
    "        self.label5['label'] = self.label5['label'].apply(lambda x: assign_attack_type(x))\n",
    "        return self.label5\n"
   ]
  },
  {
   "cell_type": "code",
   "execution_count": 29,
   "metadata": {},
   "outputs": [],
   "source": [
    "import pandas as pd\n",
    "\n",
    "train_df = pd.read_csv(f'KDDTrain+.txt', header=None)\n",
    "test_df = pd.read_csv(f'KDDTest+.txt', header=None)\n",
    "\n",
    "columns = ['duration', 'protocol_type', 'service', 'flag', 'src_bytes', 'dst_bytes', 'land', 'wrong_fragment',\n",
    "           'urgent', 'hot', 'num_failed_logins', 'logged_in', 'num_compromised', 'root_shell', 'su_attempted',\n",
    "           'num_root', 'num_file_creations', 'num_shells', 'num_access_files', 'num_outbound_cmds', 'is_host_login',\n",
    "           'is_guest_login', 'count', 'srv_count', 'serror_rate', 'srv_serror_rate', 'rerror_rate', 'srv_rerror_rate',\n",
    "           'same_srv_rate', 'diff_srv_rate', 'srv_diff_host_rate', 'dst_host_count', 'dst_host_srv_count',\n",
    "           'dst_host_same_srv_rate', 'dst_host_diff_srv_rate', 'dst_host_same_src_port_rate',\n",
    "           'dst_host_srv_diff_host_rate', 'dst_host_serror_rate', 'dst_host_srv_serror_rate', 'dst_host_rerror_rate',\n",
    "           'dst_host_srv_rerror_rate', 'label', 'score']\n",
    "train_df.columns = columns\n",
    "test_df.columns = columns\n",
    "\n",
    "nominal_features = ['protocol_type', 'service', 'flag']\n",
    "binary_features = ['land', 'logged_in', 'root_shell', 'su_attempted', 'is_host_login', 'is_guest_login']\n",
    "numeric_features = [feature for feature in columns if feature not in nominal_features + binary_features + ['label', 'score']]\n"
   ]
  },
  {
   "cell_type": "code",
   "execution_count": 30,
   "metadata": {},
   "outputs": [
    {
     "name": "stdout",
     "output_type": "stream",
     "text": [
      "normal    67343\n",
      "attack    58630\n",
      "Name: label, dtype: int64\n",
      "attack    12833\n",
      "normal     9711\n",
      "Name: label, dtype: int64\n",
      "normal    67343\n",
      "dos       45927\n",
      "probe     11656\n",
      "r2l         995\n",
      "u2r          52\n",
      "Name: label, dtype: int64\n",
      "normal    9711\n",
      "dos       7460\n",
      "r2l       2885\n",
      "probe     2421\n",
      "u2r         67\n",
      "Name: label, dtype: int64\n"
     ]
    }
   ],
   "source": [
    "train_data = Dataset(train_df)\n",
    "test_data = Dataset(test_df)\n",
    "\n",
    "print(train_data.get_label2()['label'].value_counts())\n",
    "print(test_data.get_label2()['label'].value_counts())  \n",
    "\n",
    "print(train_data.get_label5()['label'].value_counts())\n",
    "print(test_data.get_label5()['label'].value_counts())\n"
   ]
  },
  {
   "cell_type": "code",
   "execution_count": 34,
   "metadata": {},
   "outputs": [
    {
     "name": "stdout",
     "output_type": "stream",
     "text": [
      "protocol_type  label \n",
      "icmp           attack     6982\n",
      "               normal     1309\n",
      "tcp            attack    49089\n",
      "               normal    53600\n",
      "udp            attack     2559\n",
      "               normal    12434\n",
      "dtype: int64\n",
      "protocol_type  label \n",
      "icmp           attack      950\n",
      "               normal       93\n",
      "tcp            attack    11038\n",
      "               normal     7842\n",
      "udp            attack      845\n",
      "               normal     1776\n",
      "dtype: int64\n",
      "protocol_type  label \n",
      "icmp           dos        2847\n",
      "               normal     1309\n",
      "               probe      4135\n",
      "tcp            dos       42188\n",
      "               normal    53600\n",
      "               probe      5857\n",
      "               r2l         995\n",
      "               u2r          49\n",
      "udp            dos         892\n",
      "               normal    12434\n",
      "               probe      1664\n",
      "               u2r           3\n",
      "dtype: int64\n",
      "protocol_type  label \n",
      "icmp           dos        706\n",
      "               normal      93\n",
      "               probe      240\n",
      "               r2l          4\n",
      "tcp            dos       6740\n",
      "               normal    7842\n",
      "               probe     1864\n",
      "               r2l       2367\n",
      "               u2r         67\n",
      "udp            dos         14\n",
      "               normal    1776\n",
      "               probe      317\n",
      "               r2l        514\n",
      "dtype: int64\n"
     ]
    }
   ],
   "source": [
    "print(train_data.get_label2().groupby(['protocol_type', 'label']).size())\n",
    "print(test_data.get_label2().groupby(['protocol_type', 'label']).size())\n",
    "\n",
    "print(train_data.get_label5().groupby(['protocol_type', 'label']).size())\n",
    "print(test_data.get_label5().groupby(['protocol_type', 'label']).size())"
   ]
  },
  {
   "cell_type": "code",
   "execution_count": 36,
   "metadata": {},
   "outputs": [
    {
     "name": "stdout",
     "output_type": "stream",
     "text": [
      "                   count      mean       std  min  25%  50%  75%  max\n",
      "land            125973.0  0.000198  0.014086  0.0  0.0  0.0  0.0  1.0\n",
      "logged_in       125973.0  0.395736  0.489010  0.0  0.0  0.0  1.0  1.0\n",
      "root_shell      125973.0  0.001342  0.036603  0.0  0.0  0.0  0.0  1.0\n",
      "su_attempted    125973.0  0.001103  0.045154  0.0  0.0  0.0  0.0  2.0\n",
      "is_host_login   125973.0  0.000008  0.002817  0.0  0.0  0.0  0.0  1.0\n",
      "is_guest_login  125973.0  0.009423  0.096612  0.0  0.0  0.0  0.0  1.0\n",
      "                  count      mean       std  min  25%  50%  75%  max\n",
      "land            22544.0  0.000311  0.017619  0.0  0.0  0.0  0.0  1.0\n",
      "logged_in       22544.0  0.442202  0.496659  0.0  0.0  0.0  1.0  1.0\n",
      "root_shell      22544.0  0.002440  0.049334  0.0  0.0  0.0  0.0  1.0\n",
      "su_attempted    22544.0  0.000266  0.021060  0.0  0.0  0.0  0.0  2.0\n",
      "is_host_login   22544.0  0.000488  0.022084  0.0  0.0  0.0  0.0  1.0\n",
      "is_guest_login  22544.0  0.028433  0.166211  0.0  0.0  0.0  0.0  1.0\n"
     ]
    }
   ],
   "source": [
    "# stampa la descrizione delle colonne binarie e trasponi i risultati\n",
    "print(train_data.get_label2()[binary_features].describe().T)\n",
    "print(test_data.get_label2()[binary_features].describe().T)\n"
   ]
  }
 ],
 "metadata": {
  "kernelspec": {
   "display_name": "envTesi",
   "language": "python",
   "name": "python3"
  },
  "language_info": {
   "codemirror_mode": {
    "name": "ipython",
    "version": 3
   },
   "file_extension": ".py",
   "mimetype": "text/x-python",
   "name": "python",
   "nbconvert_exporter": "python",
   "pygments_lexer": "ipython3",
   "version": "3.8.18"
  }
 },
 "nbformat": 4,
 "nbformat_minor": 2
}
